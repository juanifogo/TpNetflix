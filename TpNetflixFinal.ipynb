{
  "cells": [
    {
      "cell_type": "markdown",
      "metadata": {
        "id": "RcbZSb_5pn77"
      },
      "source": [
        "# Netflix"
      ]
    },
    {
      "cell_type": "markdown",
      "metadata": {
        "id": "mD-9KtU8lKlT"
      },
      "source": [
        "## Importamos librerias\n",
        "\n",
        "- files de google colab para subir archivos locales al notebook\n",
        "- pandas para leer el archivo .csv y manipularlo\n",
        "- matplotlib para graficar cuando lo pide la consigna\n",
        "- numpy para el manejo de arrays\n",
        "- seaborn para graficar el heatmap en el punto D\n",
        "- datetime para operaciones con horarios reales\n",
        "- Counter de collections para facilitar la creacion de un diccionario en el punto B"
      ]
    },
    {
      "cell_type": "code",
      "execution_count": null,
      "metadata": {
        "colab": {
          "base_uri": "https://localhost:8080/",
          "height": 714,
          "resources": {
            "http://localhost:8080/nbextensions/google.colab/files.js": {
              "data": "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",
              "headers": [
                [
                  "content-type",
                  "application/javascript"
                ]
              ],
              "ok": true,
              "status": 200,
              "status_text": ""
            }
          }
        },
        "id": "N-P4PwpTqQJ1",
        "outputId": "f873696b-a995-4a7b-b4d2-57c636f083c3"
      },
      "outputs": [
        {
          "data": {
            "text/html": [
              "\n",
              "     <input type=\"file\" id=\"files-9e5c5823-3bd0-46f8-a7d0-dd6101d6107b\" name=\"files[]\" multiple disabled\n",
              "        style=\"border:none\" />\n",
              "     <output id=\"result-9e5c5823-3bd0-46f8-a7d0-dd6101d6107b\">\n",
              "      Upload widget is only available when the cell has been executed in the\n",
              "      current browser session. Please rerun this cell to enable.\n",
              "      </output>\n",
              "      <script src=\"/nbextensions/google.colab/files.js\"></script> "
            ],
            "text/plain": [
              "<IPython.core.display.HTML object>"
            ]
          },
          "metadata": {},
          "output_type": "display_data"
        },
        {
          "name": "stdout",
          "output_type": "stream",
          "text": [
            "Saving NetflixHistory.csv to NetflixHistory (1).csv\n"
          ]
        },
        {
          "data": {
            "text/html": [
              "\n",
              "  <div id=\"df-66231461-ce57-4f21-9595-896c140e49b9\">\n",
              "    <div class=\"colab-df-container\">\n",
              "      <div>\n",
              "<style scoped>\n",
              "    .dataframe tbody tr th:only-of-type {\n",
              "        vertical-align: middle;\n",
              "    }\n",
              "\n",
              "    .dataframe tbody tr th {\n",
              "        vertical-align: top;\n",
              "    }\n",
              "\n",
              "    .dataframe thead th {\n",
              "        text-align: right;\n",
              "    }\n",
              "</style>\n",
              "<table border=\"1\" class=\"dataframe\">\n",
              "  <thead>\n",
              "    <tr style=\"text-align: right;\">\n",
              "      <th></th>\n",
              "      <th>Unnamed: 0</th>\n",
              "      <th>Profile Name</th>\n",
              "      <th>Start Time</th>\n",
              "      <th>Duration</th>\n",
              "      <th>Attributes</th>\n",
              "      <th>Title</th>\n",
              "      <th>Supplemental Video Type</th>\n",
              "      <th>Device Type</th>\n",
              "      <th>Bookmark</th>\n",
              "      <th>Latest Bookmark</th>\n",
              "      <th>Country</th>\n",
              "    </tr>\n",
              "  </thead>\n",
              "  <tbody>\n",
              "    <tr>\n",
              "      <th>0</th>\n",
              "      <td>0</td>\n",
              "      <td>Chona</td>\n",
              "      <td>2022-08-21 19:54:53</td>\n",
              "      <td>00:02:54</td>\n",
              "      <td>NaN</td>\n",
              "      <td>Community: Temporada 3: Teoría del caos correc...</td>\n",
              "      <td>NaN</td>\n",
              "      <td>Apple Apple TV 4 Apple TV</td>\n",
              "      <td>00:02:55</td>\n",
              "      <td>00:02:55</td>\n",
              "      <td>AR (Argentina)</td>\n",
              "    </tr>\n",
              "    <tr>\n",
              "      <th>1</th>\n",
              "      <td>1</td>\n",
              "      <td>Chona</td>\n",
              "      <td>2022-08-21 19:33:17</td>\n",
              "      <td>00:21:33</td>\n",
              "      <td>NaN</td>\n",
              "      <td>Community: Temporada 3: Ecología competitiva (...</td>\n",
              "      <td>NaN</td>\n",
              "      <td>Apple Apple TV 4 Apple TV</td>\n",
              "      <td>00:21:33</td>\n",
              "      <td>00:21:33</td>\n",
              "      <td>AR (Argentina)</td>\n",
              "    </tr>\n",
              "    <tr>\n",
              "      <th>2</th>\n",
              "      <td>2</td>\n",
              "      <td>Chona</td>\n",
              "      <td>2022-08-21 19:11:40</td>\n",
              "      <td>00:21:28</td>\n",
              "      <td>NaN</td>\n",
              "      <td>Community: Temporada 3: Geografía del conflict...</td>\n",
              "      <td>NaN</td>\n",
              "      <td>Apple Apple TV 4 Apple TV</td>\n",
              "      <td>00:21:28</td>\n",
              "      <td>00:21:28</td>\n",
              "      <td>AR (Argentina)</td>\n",
              "    </tr>\n",
              "    <tr>\n",
              "      <th>3</th>\n",
              "      <td>3</td>\n",
              "      <td>Chona</td>\n",
              "      <td>2022-08-21 18:50:27</td>\n",
              "      <td>00:20:41</td>\n",
              "      <td>NaN</td>\n",
              "      <td>Community: Temporada 2: Intermediate Documenta...</td>\n",
              "      <td>NaN</td>\n",
              "      <td>Apple Apple TV 4 Apple TV</td>\n",
              "      <td>00:21:02</td>\n",
              "      <td>00:21:02</td>\n",
              "      <td>AR (Argentina)</td>\n",
              "    </tr>\n",
              "    <tr>\n",
              "      <th>4</th>\n",
              "      <td>4</td>\n",
              "      <td>Chona</td>\n",
              "      <td>2022-08-21 18:16:34</td>\n",
              "      <td>00:21:20</td>\n",
              "      <td>NaN</td>\n",
              "      <td>Community: Temporada 3: El documental (Capítul...</td>\n",
              "      <td>NaN</td>\n",
              "      <td>Apple Apple TV 4 Apple TV</td>\n",
              "      <td>00:21:21</td>\n",
              "      <td>00:21:21</td>\n",
              "      <td>AR (Argentina)</td>\n",
              "    </tr>\n",
              "    <tr>\n",
              "      <th>...</th>\n",
              "      <td>...</td>\n",
              "      <td>...</td>\n",
              "      <td>...</td>\n",
              "      <td>...</td>\n",
              "      <td>...</td>\n",
              "      <td>...</td>\n",
              "      <td>...</td>\n",
              "      <td>...</td>\n",
              "      <td>...</td>\n",
              "      <td>...</td>\n",
              "      <td>...</td>\n",
              "    </tr>\n",
              "    <tr>\n",
              "      <th>12992</th>\n",
              "      <td>12992</td>\n",
              "      <td>Chona</td>\n",
              "      <td>2015-01-08 19:21:21</td>\n",
              "      <td>00:04:09</td>\n",
              "      <td>NaN</td>\n",
              "      <td>Lost: Temporada 1: Éxodo: Parte 1 (Capítulo 23)</td>\n",
              "      <td>NaN</td>\n",
              "      <td>Apple TV 3 (revised)</td>\n",
              "      <td>00:04:40</td>\n",
              "      <td>Not latest view</td>\n",
              "      <td>AR (Argentina)</td>\n",
              "    </tr>\n",
              "    <tr>\n",
              "      <th>12993</th>\n",
              "      <td>12993</td>\n",
              "      <td>Chona</td>\n",
              "      <td>2015-01-08 19:20:47</td>\n",
              "      <td>00:00:15</td>\n",
              "      <td>NaN</td>\n",
              "      <td>Lost: Temporada 1: Nacida para correr (Capítul...</td>\n",
              "      <td>NaN</td>\n",
              "      <td>Apple TV 3 (revised)</td>\n",
              "      <td>00:00:14</td>\n",
              "      <td>Not latest view</td>\n",
              "      <td>AR (Argentina)</td>\n",
              "    </tr>\n",
              "    <tr>\n",
              "      <th>12994</th>\n",
              "      <td>12994</td>\n",
              "      <td>Chona</td>\n",
              "      <td>2015-01-08 19:18:32</td>\n",
              "      <td>00:00:37</td>\n",
              "      <td>NaN</td>\n",
              "      <td>Lost: Temporada 1: Éxodo: Parte 1 (Capítulo 23)</td>\n",
              "      <td>NaN</td>\n",
              "      <td>Apple TV 3 (revised)</td>\n",
              "      <td>00:00:37</td>\n",
              "      <td>Not latest view</td>\n",
              "      <td>AR (Argentina)</td>\n",
              "    </tr>\n",
              "    <tr>\n",
              "      <th>12995</th>\n",
              "      <td>12995</td>\n",
              "      <td>Chona</td>\n",
              "      <td>2015-01-08 19:16:45</td>\n",
              "      <td>00:00:18</td>\n",
              "      <td>NaN</td>\n",
              "      <td>Lost: Temporada 1: Éxodo: Parte 1 (Capítulo 23)</td>\n",
              "      <td>NaN</td>\n",
              "      <td>Apple TV 3 (revised)</td>\n",
              "      <td>00:00:18</td>\n",
              "      <td>Not latest view</td>\n",
              "      <td>AR (Argentina)</td>\n",
              "    </tr>\n",
              "    <tr>\n",
              "      <th>12996</th>\n",
              "      <td>12996</td>\n",
              "      <td>Chona</td>\n",
              "      <td>2015-01-08 19:15:14</td>\n",
              "      <td>00:00:18</td>\n",
              "      <td>NaN</td>\n",
              "      <td>Lost: Temporada 1: Éxodo: Parte 1 (Capítulo 23)</td>\n",
              "      <td>NaN</td>\n",
              "      <td>Apple TV 3 (revised)</td>\n",
              "      <td>00:00:18</td>\n",
              "      <td>Not latest view</td>\n",
              "      <td>AR (Argentina)</td>\n",
              "    </tr>\n",
              "  </tbody>\n",
              "</table>\n",
              "<p>12997 rows × 11 columns</p>\n",
              "</div>\n",
              "      <button class=\"colab-df-convert\" onclick=\"convertToInteractive('df-66231461-ce57-4f21-9595-896c140e49b9')\"\n",
              "              title=\"Convert this dataframe to an interactive table.\"\n",
              "              style=\"display:none;\">\n",
              "        \n",
              "  <svg xmlns=\"http://www.w3.org/2000/svg\" height=\"24px\"viewBox=\"0 0 24 24\"\n",
              "       width=\"24px\">\n",
              "    <path d=\"M0 0h24v24H0V0z\" fill=\"none\"/>\n",
              "    <path d=\"M18.56 5.44l.94 2.06.94-2.06 2.06-.94-2.06-.94-.94-2.06-.94 2.06-2.06.94zm-11 1L8.5 8.5l.94-2.06 2.06-.94-2.06-.94L8.5 2.5l-.94 2.06-2.06.94zm10 10l.94 2.06.94-2.06 2.06-.94-2.06-.94-.94-2.06-.94 2.06-2.06.94z\"/><path d=\"M17.41 7.96l-1.37-1.37c-.4-.4-.92-.59-1.43-.59-.52 0-1.04.2-1.43.59L10.3 9.45l-7.72 7.72c-.78.78-.78 2.05 0 2.83L4 21.41c.39.39.9.59 1.41.59.51 0 1.02-.2 1.41-.59l7.78-7.78 2.81-2.81c.8-.78.8-2.07 0-2.86zM5.41 20L4 18.59l7.72-7.72 1.47 1.35L5.41 20z\"/>\n",
              "  </svg>\n",
              "      </button>\n",
              "      \n",
              "  <style>\n",
              "    .colab-df-container {\n",
              "      display:flex;\n",
              "      flex-wrap:wrap;\n",
              "      gap: 12px;\n",
              "    }\n",
              "\n",
              "    .colab-df-convert {\n",
              "      background-color: #E8F0FE;\n",
              "      border: none;\n",
              "      border-radius: 50%;\n",
              "      cursor: pointer;\n",
              "      display: none;\n",
              "      fill: #1967D2;\n",
              "      height: 32px;\n",
              "      padding: 0 0 0 0;\n",
              "      width: 32px;\n",
              "    }\n",
              "\n",
              "    .colab-df-convert:hover {\n",
              "      background-color: #E2EBFA;\n",
              "      box-shadow: 0px 1px 2px rgba(60, 64, 67, 0.3), 0px 1px 3px 1px rgba(60, 64, 67, 0.15);\n",
              "      fill: #174EA6;\n",
              "    }\n",
              "\n",
              "    [theme=dark] .colab-df-convert {\n",
              "      background-color: #3B4455;\n",
              "      fill: #D2E3FC;\n",
              "    }\n",
              "\n",
              "    [theme=dark] .colab-df-convert:hover {\n",
              "      background-color: #434B5C;\n",
              "      box-shadow: 0px 1px 3px 1px rgba(0, 0, 0, 0.15);\n",
              "      filter: drop-shadow(0px 1px 2px rgba(0, 0, 0, 0.3));\n",
              "      fill: #FFFFFF;\n",
              "    }\n",
              "  </style>\n",
              "\n",
              "      <script>\n",
              "        const buttonEl =\n",
              "          document.querySelector('#df-66231461-ce57-4f21-9595-896c140e49b9 button.colab-df-convert');\n",
              "        buttonEl.style.display =\n",
              "          google.colab.kernel.accessAllowed ? 'block' : 'none';\n",
              "\n",
              "        async function convertToInteractive(key) {\n",
              "          const element = document.querySelector('#df-66231461-ce57-4f21-9595-896c140e49b9');\n",
              "          const dataTable =\n",
              "            await google.colab.kernel.invokeFunction('convertToInteractive',\n",
              "                                                     [key], {});\n",
              "          if (!dataTable) return;\n",
              "\n",
              "          const docLinkHtml = 'Like what you see? Visit the ' +\n",
              "            '<a target=\"_blank\" href=https://colab.research.google.com/notebooks/data_table.ipynb>data table notebook</a>'\n",
              "            + ' to learn more about interactive tables.';\n",
              "          element.innerHTML = '';\n",
              "          dataTable['output_type'] = 'display_data';\n",
              "          await google.colab.output.renderOutput(dataTable, element);\n",
              "          const docLink = document.createElement('div');\n",
              "          docLink.innerHTML = docLinkHtml;\n",
              "          element.appendChild(docLink);\n",
              "        }\n",
              "      </script>\n",
              "    </div>\n",
              "  </div>\n",
              "  "
            ],
            "text/plain": [
              "       Unnamed: 0 Profile Name           Start Time  Duration Attributes  \\\n",
              "0               0        Chona  2022-08-21 19:54:53  00:02:54        NaN   \n",
              "1               1        Chona  2022-08-21 19:33:17  00:21:33        NaN   \n",
              "2               2        Chona  2022-08-21 19:11:40  00:21:28        NaN   \n",
              "3               3        Chona  2022-08-21 18:50:27  00:20:41        NaN   \n",
              "4               4        Chona  2022-08-21 18:16:34  00:21:20        NaN   \n",
              "...           ...          ...                  ...       ...        ...   \n",
              "12992       12992        Chona  2015-01-08 19:21:21  00:04:09        NaN   \n",
              "12993       12993        Chona  2015-01-08 19:20:47  00:00:15        NaN   \n",
              "12994       12994        Chona  2015-01-08 19:18:32  00:00:37        NaN   \n",
              "12995       12995        Chona  2015-01-08 19:16:45  00:00:18        NaN   \n",
              "12996       12996        Chona  2015-01-08 19:15:14  00:00:18        NaN   \n",
              "\n",
              "                                                   Title  \\\n",
              "0      Community: Temporada 3: Teoría del caos correc...   \n",
              "1      Community: Temporada 3: Ecología competitiva (...   \n",
              "2      Community: Temporada 3: Geografía del conflict...   \n",
              "3      Community: Temporada 2: Intermediate Documenta...   \n",
              "4      Community: Temporada 3: El documental (Capítul...   \n",
              "...                                                  ...   \n",
              "12992    Lost: Temporada 1: Éxodo: Parte 1 (Capítulo 23)   \n",
              "12993  Lost: Temporada 1: Nacida para correr (Capítul...   \n",
              "12994    Lost: Temporada 1: Éxodo: Parte 1 (Capítulo 23)   \n",
              "12995    Lost: Temporada 1: Éxodo: Parte 1 (Capítulo 23)   \n",
              "12996    Lost: Temporada 1: Éxodo: Parte 1 (Capítulo 23)   \n",
              "\n",
              "      Supplemental Video Type                Device Type  Bookmark  \\\n",
              "0                         NaN  Apple Apple TV 4 Apple TV  00:02:55   \n",
              "1                         NaN  Apple Apple TV 4 Apple TV  00:21:33   \n",
              "2                         NaN  Apple Apple TV 4 Apple TV  00:21:28   \n",
              "3                         NaN  Apple Apple TV 4 Apple TV  00:21:02   \n",
              "4                         NaN  Apple Apple TV 4 Apple TV  00:21:21   \n",
              "...                       ...                        ...       ...   \n",
              "12992                     NaN       Apple TV 3 (revised)  00:04:40   \n",
              "12993                     NaN       Apple TV 3 (revised)  00:00:14   \n",
              "12994                     NaN       Apple TV 3 (revised)  00:00:37   \n",
              "12995                     NaN       Apple TV 3 (revised)  00:00:18   \n",
              "12996                     NaN       Apple TV 3 (revised)  00:00:18   \n",
              "\n",
              "       Latest Bookmark         Country  \n",
              "0             00:02:55  AR (Argentina)  \n",
              "1             00:21:33  AR (Argentina)  \n",
              "2             00:21:28  AR (Argentina)  \n",
              "3             00:21:02  AR (Argentina)  \n",
              "4             00:21:21  AR (Argentina)  \n",
              "...                ...             ...  \n",
              "12992  Not latest view  AR (Argentina)  \n",
              "12993  Not latest view  AR (Argentina)  \n",
              "12994  Not latest view  AR (Argentina)  \n",
              "12995  Not latest view  AR (Argentina)  \n",
              "12996  Not latest view  AR (Argentina)  \n",
              "\n",
              "[12997 rows x 11 columns]"
            ]
          },
          "execution_count": 2,
          "metadata": {},
          "output_type": "execute_result"
        }
      ],
      "source": [
        "from google.colab import files\n",
        "from collections import Counter\n",
        "import pandas as pd\n",
        "import seaborn as sns\n",
        "import matplotlib.pyplot as plt\n",
        "import numpy as np\n",
        "import datetime\n",
        "\n",
        "uploaded = files.upload() # uploaded es un diccionario cuyas 'keys' son los nombres de los archivos subidos, y los 'values', los archivos en si\n",
        "info = list(uploaded.keys())[0] # info es el primer valor de las 'keys' de uploaded, hechas una lista\n",
        "df = pd.read_csv(info) # leemos el archivo csv subido, llamandolo por su nombre, y lo guardamos en 'df', un dataframe de pandas\n",
        "df"
      ]
    },
    {
      "cell_type": "markdown",
      "metadata": {
        "id": "SceId6qAlNSA"
      },
      "source": [
        "## Creamos el filtro pedido por la consigna"
      ]
    },
    {
      "cell_type": "code",
      "execution_count": 3,
      "metadata": {
        "id": "k4YiztAjtdGP"
      },
      "outputs": [],
      "source": [
        "df = df.loc[(df['Device Type'] != 'Sony PS4') &\n",
        "              (df['Device Type'] != 'Netflix Windows App - Cadmium Windows Mobile') &\n",
        "              (df['Device Type'] != 'Apple iPhone 6s') &\n",
        "              (df['Device Type'] != 'Apple iPhone 7 Plus (CDMA)') &\n",
        "              (df['Device Type'] != 'Chrome PC (Cadmium)') &\n",
        "              (df['Device Type'] != 'Samsung 2015 NT14M DTV Smart TV') &\n",
        "              (df['Device Type'] != 'iPhone 5S GSM') &\n",
        "              (df['Device Type'] != 'Google Chromecast V3 Streaming Stick')]\n",
        "\n",
        "# Utilizo el metodo '.loc' de pandas  en el dataframe 'df' para localizar todas las filas que cumplan\n",
        "# la condicion de que la columna 'Device Type' no iguale ninguno de los valores especificados, el metodo\n",
        "# devuelve un nuevo dataframe de pandas al cual igualo al original."
      ]
    },
    {
      "cell_type": "markdown",
      "metadata": {
        "id": "JGkP8cE4RmNE"
      },
      "source": [
        "## Punto A:\n",
        "Contabilizar el dispositivo con el que más títulos se reprodujeron."
      ]
    },
    {
      "cell_type": "markdown",
      "metadata": {
        "id": "qAlQWkEeRqv4"
      },
      "source": [
        "#### Explicación:\n",
        "Este ejercicio lo pensé por partes. Hice una función por cada parte de mi razonamiento. Comencé por lo básico, ya que para contabilizar los dispositivos debía obtenerlos, y eso realiza la funcion todosLosDispositivos, explicada en el código. Luego, quería comparar las ocurrencias totales de los dispositivos con cada dispositivo, y para no hacerlo manualmente, hice una función llamada cadaDispositivo que almacena una única vez todos los dispositivos. Luego, hice la función OcurrenciasDeDispositivos, que cuenta las ocurrencias de cada dispositivo a lo largo del historial basado en las listas generadas por las funciones anteriores. Por último, tenía que hacer una función que haga lo mismo que la anterior, pero que almacene el dispositivo de mayor ocurrencias; a esta función la llamé mayorOcurrencia.\n",
        "El ejercicio fue realizado con distintas funciones para que el código sea más organizado, legible y me facilite encontrar errores de lógica."
      ]
    },
    {
      "cell_type": "code",
      "execution_count": 4,
      "metadata": {
        "colab": {
          "base_uri": "https://localhost:8080/"
        },
        "id": "x56OLWWkRtIT",
        "outputId": "9b1f515f-bfc3-4269-f60a-5ebc95527ded"
      },
      "outputs": [
        {
          "name": "stdout",
          "output_type": "stream",
          "text": [
            "Apple Apple TV 4 Apple TV es el que aparece más veces, siendo 3519 su cantidad de ocurrencias\n"
          ]
        }
      ],
      "source": [
        "def todosLosDispositivos(): #Declaro la primera función. Objetivo: generar una lista con el nombre del dispositivo cada vez que aparece.\n",
        "  new_df = df['Device Type'].values.tolist() #Creo una nueva lista que contiene todos los tipos de dispositivo.\n",
        "  return new_df #Retorno la lista con todos los dispositivos de cada fila.\n",
        "\n",
        "def cadaDispositivo(): #Declaro la primera función. Objetivo: generar una lista con el nombre del dispositivo cada vez que aparece.\n",
        "  new_df = df['Device Type'].values.tolist() #Creo una nueva lista que contiene todos los tipos de dispositivo.\n",
        "  listaDispositivos = [] #Creo mi lista de dispositivos únicos.\n",
        "  for n in new_df:  #Recorro todos los dispositivos.\n",
        "    if n not in listaDispositivos: #Pregunto si el dispositivo actual no se encuentra en mi lista.\n",
        "      listaDispositivos.append(n) #Si no se encuentra lo agrego.\n",
        "  return listaDispositivos #Devuelvo la lista.\n",
        "\n",
        "listaTotal = todosLosDispositivos() #Declaro y asigno una variable a la lisa que me devuelve esta función.\n",
        "lista = cadaDispositivo() #Declaro y asigno una variable a la lisa que me devuelve esta función.\n",
        "\n",
        "def ocurrenciasDeDispositivos(): #Declaro mi tercera función. Objetivo: saber las ocurrencias de cada dispositivo.\n",
        "  for n in lista: #Recorro la lista de cada dispositivo.\n",
        "    ocurr = listaTotal.count(n) #Asigno la cantidad de veces que ese dispositivo aparece en la lista total.\n",
        "    print(n, ' ocurre ', ocurr, ' veces') #Printeo el resultado.\n",
        "\n",
        "def mayorOcurrencia(): #Declaro mi cuarta y última función. Objetivo: saber el dispositivo de mayor ocurrencias.\n",
        "  maxOcurr = 0 #Declaro mi variable que almacene el mayor número de ocurrencias.\n",
        "  nombre = '' #Declaro mi variable que almacene el nombre del dispositivo con el mayor número de ocurrencias.\n",
        "  for n in lista: #Recorro la lista de cada dispositivo.\n",
        "    ocurr = listaTotal.count(n) #Asigno la cantidad de veces que ese dispositivo aparece en la lista total.\n",
        "    if ocurr > maxOcurr: #Pregunto si la cantidad del dispositivo actual es mayor a la cantidad máxima almacenada.\n",
        "      maxOcurr = ocurr #En caso de cumplirse, tenemos un nuevo número máximo de ocurrencias, lo asignamos a nuestra variable.\n",
        "      nombre = n #También almacenamos el nombre de dicho dispositivo, para diferenciarlo y no tener que buscar manualmente cuál es.\n",
        "  print(nombre, 'es el que aparece más veces, siendo', maxOcurr, 'su cantidad de ocurrencias') #Printeamos el resultado.\n",
        "mayorOcurrencia()"
      ]
    },
    {
      "cell_type": "markdown",
      "metadata": {
        "id": "Nkads5fvTIB3"
      },
      "source": [
        "## Punto B:\n",
        "Encontrar la película con más ocurrencias y la película con mayor duración total."
      ]
    },
    {
      "cell_type": "markdown",
      "metadata": {
        "id": "V-VejNNDTH0F"
      },
      "source": [
        "#### Explicación:\n",
        "Este ejercicio lo pensé por partes. Primero explico la primera parte y luego la segunda.\n",
        "Encontrar la película con más ocurrencias fue parecido al ejercicio anterior, pero requería clasificar en distintas categorías y quedarse con una. La diferenciación entre pelis y series la dijo el profesor en clase, la cantidad de ':'. Luego, para diferenciar las pelis del resto, noté que siempre estaba presente la palabra en el título, por lo que si ninguna de esas palabras se encuentra en mi título, quiere decir que es una peli. Una vez que tenía mis películas, hice el mismo procedimiento que en el ejercicio anterior, pero de manera más práctica y sencilla.\n",
        "Luego, la segunda parte de la consigna. Esto requería tener las pelis, pero ya no me servía mi lista, porque no sabía las duraciones de cada peli; necesitaba un Df para acceder a la peli y su duración. Esto lo conseguí haciendo una filtración similar a la anterior, pero para que me devolviese un Df en lugar de una lista. Con este Df, hago dos listas que contengan los nombres y las duraciones de las pelis. Como las duraciones eran strings y tenían el ':', se los saqué y los pasé a ints. Por último, el proceso de determinar la mayor duración fue similar a como fue realizado anteriormente con otras cosas. Sin embargo, esta vez utilicé un diccionario, ya que quería tener el nombre y la duración cada vez que lo recorra (2 valores en 1 espacio) Recorriendo ambas listas (la de duraciones y la de títulos), construí el diccionario. Cuando conseguí la mayor duración, simplemente obtuve el value asignado a esa key, es decir, el nombre de la película cuya duración fuese exactamente esa."
      ]
    },
    {
      "cell_type": "code",
      "execution_count": 5,
      "metadata": {
        "colab": {
          "base_uri": "https://localhost:8080/"
        },
        "id": "nrMr4q9bTHgG",
        "outputId": "c1801174-5e64-4164-8f17-444a4e700acc"
      },
      "outputs": [
        {
          "name": "stdout",
          "output_type": "stream",
          "text": [
            "La película con más ocurrencias es Star Wars: El Imperio contraataca con 7 ocurrencias.\n",
            "La película de mayor duración es El club de la pelea\n"
          ]
        },
        {
          "name": "stderr",
          "output_type": "stream",
          "text": [
            "/usr/local/lib/python3.7/dist-packages/ipykernel_launcher.py:31: SettingWithCopyWarning: \n",
            "A value is trying to be set on a copy of a slice from a DataFrame.\n",
            "Try using .loc[row_indexer,col_indexer] = value instead\n",
            "\n",
            "See the caveats in the documentation: https://pandas.pydata.org/pandas-docs/stable/user_guide/indexing.html#returning-a-view-versus-a-copy\n"
          ]
        }
      ],
      "source": [
        "titulos = df['Title'].values.tolist() #Creo mi variable titulos que almacena todos los titulos de la lista.\n",
        "def esPelicula(): #Declaro la primera función. Objetivo: devolver una lista con las películas.\n",
        "  peliculas = [] #Declaro mi lista.\n",
        "  for n in titulos: #Recorro la lista que contiene todos los titulos.\n",
        "    if n.count(':') <= 1 and 'Clip' not in n and 'hook' not in n and 'Tráiler' not in n and 'Avance' not in n and 'Resumen' not in n:\n",
        "#Cuento la cantidad de ':' que hay. En caso de ser 1 o 0, no es una serie. Luego pregunto si no es ningún otro tipo de titulo.\n",
        "      peliculas.append(n) #Habiendo descartado el resto, es una película.\n",
        "  return peliculas #Se devuelve la lista.\n",
        "peliculas = esPelicula()\n",
        "\n",
        "ocurrPelis = dict(Counter(peliculas))\n",
        "#Creo mi variable ocurrPelis, que es un diccionario cuya key es el título y el value la cantidad de ocurrencias.\n",
        "\n",
        "mostFreq = 0 #Creo mi variable mostFreq, que almacena la mayor ocurrencia.\n",
        "nameMovie = None #Creo la variable nameMovie, que almacena el nombre de la película almacenada en mostFreq.\n",
        "for key, value in ocurrPelis.items(): #Recorro el diccionario, rescatando tanto las keys como los values.\n",
        "  if value > mostFreq: #Pregunto si el value (cantidad de ocurrencias) es mayor a mi variable.\n",
        "      mostFreq = value #En ese caso hay una nueva peli que aparece más veces.\n",
        "      nameMovie = key #Se almacena tanto las ocurrencias como el nombre en las variables correspondientes.\n",
        "print('La película con más ocurrencias es', nameMovie, 'con', mostFreq, 'ocurrencias.') #Se printea el resultado.\n",
        "\n",
        "def clasificador(titulo, supVidType): #Declaro la función clasificador. Objetivo: clasificar los títulos. Requiere dos argumentos: el título, y su Supplemental Video Type\n",
        "  if pd.isnull(supVidType): #Pregunto si el Supplemental Video Type (SVT) es nulo.\n",
        "    if titulo.count(':') <= 1: #Si el SVT nulo, quiere decir que es una serie o una película. La diferencia entre estas dos es la cantidad de ':' que tienen.\n",
        "      return 'pelicula' #En caso de que la cantidad de ':' sea 1 o ninguna, es una película.\n",
        "    else:\n",
        "      return 'serie' #En cualquier otro caso, es una serie.\n",
        "  else: #Si SVT no es nulo, quiere decir que se encuentra en otra categoría, ya sea 'hook', 'tráiler' o 'resumen', entre otros.\n",
        "    return 'distinto'\n",
        "\n",
        "df['Category'] = df.apply(lambda n: clasificador(n['Title'], n['Supplemental Video Type']), axis = 1)\n",
        "#Creo una columna llamada categoría, y le aplico el calificador con las columnas título y SVT.\n",
        "new_df = df.drop(df[(df['Category'] == 'distinto') | (df['Category'] == 'serie')].index)\n",
        "#Creo un nuevo dataframe a partir del anterior, pero le saco las filas que entran en la categoría 'distinto' y 'serie', para quedarme solo con las pelis.\n",
        "\n",
        "peliculas = list(new_df['Title']) #Hago una lista llamada películas que contiene los títulos de las pelis de mi nuevo Df.\n",
        "\n",
        "duration = list(new_df['Duration']) #Hago una lista que contiene las duraciones de las pelis de mi nuevo Df.\n",
        "duracionesSinPuntos = [] #Declaro una lista que contenga los valores numéricos de las duraciones.\n",
        "for n in duration: #Recorro las duraciones.\n",
        "  duracionesSinPuntos.append(int(n.replace(':', ''))) #Agrego a mi lista el int sin el caracter ':'.\n",
        "\n",
        "#No necesito pasarlo a segundos, ya que puedo comparar por su valor. Más largo significa que dure horas, y mientras mayor sea el primer caracter, mayor es la cantidad de horas/minutos.\n",
        "\n",
        "diccionario = {} #Declaro un diccionario.\n",
        "\n",
        "for k, v in zip(duracionesSinPuntos, peliculas): #Recorro tanto la lista de las duraciones como la de los nombres de las pelis.\n",
        "\tdiccionario[k] = v #Asigno al diccionario la duración como la key y el nombre como value. Explicado porqué debajo.\n",
        "#Eso fue pensado para poder obtener la mayor key (duración) y cuando quiera saber el nombre de esa peli simplemente llamo al value correspondiente en esa key, y no viceversa.\n",
        "\n",
        "\n",
        "mayorDuracion = 0 #Declaro una variable que contenga la mayor duración.\n",
        "for n in duracionesSinPuntos: #Recorro la lista de las duraciones.\n",
        "  if n > mayorDuracion: #Saco la mayor, procedimiento explicado arriba.\n",
        "    mayorDuracion = n\n",
        "print('La película de mayor duración es', diccionario[mayorDuracion])\n",
        "#Printeo el resultado, llamando al diccionario y la key más alta para acceder al value, lo que más nos interesa."
      ]
    },
    {
      "cell_type": "markdown",
      "metadata": {
        "id": "6ffR2AYRouDn"
      },
      "source": [
        "## Punto C:"
      ]
    },
    {
      "cell_type": "code",
      "execution_count": 6,
      "metadata": {
        "id": "6oik1GltpC5X"
      },
      "outputs": [],
      "source": [
        "def checkForSeries(serie):  # Distinguir series\n",
        "  serie = serie.split(\":\")\n",
        "  return len(serie) >= 2"
      ]
    },
    {
      "cell_type": "code",
      "execution_count": 7,
      "metadata": {
        "colab": {
          "base_uri": "https://localhost:8080/",
          "height": 446
        },
        "id": "AHH_T2lgpLld",
        "outputId": "c78d24b7-d740-4085-ed95-a876e280f7ff"
      },
      "outputs": [
        {
          "data": {
            "image/png": "[encoded data removed]",
            "text/plain": [
              "<Figure size 720x360 with 1 Axes>"
            ]
          },
          "metadata": {
            "needs_background": "light"
          },
          "output_type": "display_data"
        }
      ],
      "source": [
        "def topByViews(DF,n): \n",
        "  Series = {} # Diccionario --> keys = titulo, value = tiempo\n",
        "  SeriesLst = [] # Lista de titulos\n",
        "  for serie in list(DF.Title):\n",
        "    if(checkForSeries(serie)):\n",
        "      if serie.split(\":\")[0] in Series: # Si el titulo esta en el diccionario...\n",
        "        time = list(DF[DF.Title == serie].Duration) # Lista de duracion de cada reprodución (por ocurrencia)\n",
        "        for t in time:\n",
        "          t = t.split(\":\")\n",
        "          T = int(t[0])*3600 + int(t[1])*60 + int(t[2]) # Pasar tiempo a segundos\n",
        "          Series[serie.split(\":\")[0]] += T # Settear el tiempo\n",
        "      else:\n",
        "        if len(serie.split(\":\")[0].split(\"(\")) == 1 and serie.split(\":\")[0] != \"Resumen\" and serie.split(\":\")[0] != \"Tráiler\": # Si el titulo es de una serie...\n",
        "          Series[serie.split(\":\")[0]] = 0 # Agregar titulo al diccionario con 0 como value\n",
        "          SeriesLst.append(serie.split(\":\")[0]) # Agregar titulo a la lista de titulos\n",
        "  SeriesLstViews = [] # Lista de tiempos\n",
        "  for i in range(len(SeriesLst)): \n",
        "    if Series[SeriesLst[i]] != 0: # Si hay tiempo de reproduccion...\n",
        "      SeriesLstViews.append(Series[SeriesLst[i]]) # Agregar tiempo a la lista\n",
        "  top = [] # Lista del top n\n",
        "  topVal = [] # Lista con valores de los top n\n",
        "  for i in range(n):\n",
        "    temp = max(SeriesLstViews)\n",
        "    topVal.append(round(temp/3600,2)) # agregar horas de visualización con dos decimales de precisión \n",
        "    for key, value in Series.items():   #\n",
        "         if temp == value:              # Encontrar y agregar el titulo a partir del tiempo de reproduccion\n",
        "             top.append(key)            #\n",
        "    SeriesLstViews.remove(temp)         #\n",
        "  \n",
        "  plt.figure(figsize = (10, 5))                 #\n",
        "  plt.bar(top,topVal,width = .4)                #\n",
        "  plt.xticks(rotation=75)                       # Crear y mostrar el gráfico \n",
        "  plt.ylabel(\"Horas de Visualización\")          # con los resultados\n",
        "  plt.title(\"Top por Tiempo de Visualización\")  #\n",
        "  plt.show()                                    #\n",
        "\n",
        "topByViews(df,10)"
      ]
    },
    {
      "cell_type": "code",
      "execution_count": 8,
      "metadata": {
        "colab": {
          "base_uri": "https://localhost:8080/",
          "height": 446
        },
        "id": "GJzvPeg5pQHB",
        "outputId": "2a1a09fc-34f3-4fee-8433-3f8f87d554c0"
      },
      "outputs": [
        {
          "data": {
            "image/png": "[encoded data removed]",
            "text/plain": [
              "<Figure size 720x360 with 1 Axes>"
            ]
          },
          "metadata": {
            "needs_background": "light"
          },
          "output_type": "display_data"
        }
      ],
      "source": [
        "def topByOcurr(DF,n):\n",
        "  Series = {} # Diccionario --> keys = titulo, value = ocurrencias\n",
        "  SeriesLst = [] # Lista de titulos\n",
        "  for serie in list(DF.Title):\n",
        "    if(checkForSeries(serie)):\n",
        "      if serie.split(\":\")[0] in Series: # Si el titulo esta en el diccionario...\n",
        "        Series[serie.split(\":\")[0]] += 1 # Agregar 1 a las ocurrencias\n",
        "      else:\n",
        "        if len(serie.split(\":\")[0].split(\"(\")) == 1 and serie.split(\":\")[0] != \"Resumen\" and serie.split(\":\")[0] != \"Tráiler\": # Si el titulo es de una serie...\n",
        "          Series[serie.split(\":\")[0]] = 0 # Agregar el titulo al diccionario\n",
        "          SeriesLst.append(serie.split(\":\")[0]) # Agregar titulo a la lista de titulos\n",
        "  SeriesLstOcurr = [] # Lista de ocurrencias\n",
        "  for i in range(len(SeriesLst)): \n",
        "    if Series[SeriesLst[i]] != 0: # Si hay ocurrencias...\n",
        "      SeriesLstOcurr.append(Series[SeriesLst[i]]) # Agregar ocurrencias a la lista\n",
        "  top = [] # Lista del top n\n",
        "  topVal = [] # Lista con valores de los top n\n",
        "  for i in range(n):\n",
        "    temp = max(SeriesLstOcurr)\n",
        "    topVal.append(temp)\n",
        "    for key, value in Series.items():   #\n",
        "         if temp == value:              # Encontrar y agregar el titulo a partir de las ocurrencias\n",
        "             top.append(key)            #\n",
        "    SeriesLstOcurr.remove(temp)         #\n",
        "  \n",
        "  plt.figure(figsize = (10, 5))         #\n",
        "  plt.bar(top,topVal,width = .4)        #\n",
        "  plt.xticks(rotation=75)               # Crear y mostrar el gráfico \n",
        "  plt.ylabel(\"Ocurrencias\")             # con los resultados\n",
        "  plt.title(\"Top por Ocurrencias\")      #\n",
        "  plt.show()     \n",
        "\n",
        "\n",
        "topByOcurr(df,10)"
      ]
    },
    {
      "cell_type": "markdown",
      "metadata": {
        "id": "v1LtdumglglH"
      },
      "source": [
        "## Ejercicio D:"
      ]
    },
    {
      "cell_type": "code",
      "execution_count": 9,
      "metadata": {
        "colab": {
          "base_uri": "https://localhost:8080/",
          "height": 266
        },
        "id": "Vr7UXEuTl59N",
        "outputId": "354296e1-5a99-4621-dfa9-1d20adaa2d63"
      },
      "outputs": [
        {
          "data": {
            "image/png": "[encoded data removed]",
            "text/plain": [
              "<Figure size 432x288 with 2 Axes>"
            ]
          },
          "metadata": {
            "needs_background": "light"
          },
          "output_type": "display_data"
        }
      ],
      "source": [
        "lstForArray =  [ [0] * 7 for x in range(24)] # lista de listas de 7*24 para representar el heatmap \n",
        "def graphViews(DF):\n",
        "  for watched in DF[\"Start Time\"]: # para cada fecha y horario en el que se empezó a ver una serie/película...\n",
        "    watchedDate = datetime.datetime.strptime(''.join(list(watched)), '%Y-%m-%d %H:%M:%S') # transformar horario de string a datetime.datetime\n",
        "    lstForArray[23-int(watchedDate.hour)][int(watchedDate.weekday())] += 1 # agregar 1 a la casilla de la lista de listas que representa hora y dia de la semana\n",
        "  arr = np.array(lstForArray) # lista de listas a array\n",
        "  X = [\"Dom\",\"Lun\",\"Mar\",\"Mie\",\"Jue\",\"Vie\",\"Sab\"] # labels x\n",
        "  Y = [23,22,21,20,19,18,17,16,15,14,13,12,11,10,9,8,7,6,5,4,3,2,1,0] # labels y\n",
        "  htmp = sns.heatmap(arr,xticklabels=X,yticklabels=Y,cmap=\"crest\") # heatmap con los datos del array\n",
        "  plt.show() # mostrar el heatmap\n",
        "graphViews(df)"
      ]
    },
    {
      "cell_type": "markdown",
      "metadata": {
        "id": "6aMXBkvKl_X0"
      },
      "source": [
        "## Ejercicio E\n",
        "### Contabilizar la cantidad de títulos vistos por año, graficar su variación a través de los años."
      ]
    },
    {
      "cell_type": "code",
      "execution_count": 10,
      "metadata": {
        "colab": {
          "base_uri": "https://localhost:8080/",
          "height": 265
        },
        "id": "m_Uo-xXrAw0a",
        "outputId": "ffade962-cf89-4391-a5af-4fa7a017e28d"
      },
      "outputs": [
        {
          "data": {
            "image/png": "[encoded data removed]",
            "text/plain": [
              "<Figure size 432x288 with 1 Axes>"
            ]
          },
          "metadata": {
            "needs_background": "light"
          },
          "output_type": "display_data"
        }
      ],
      "source": [
        "def titulosPorAnio(DF):\n",
        "  anios = [] # creo una lista donde voy a guardar todos los anios encontrados en el dataframe.\n",
        "  cantTitulos = [] # creo una lista donde se van a guardar la cantidad de titulos vistos en cada anio.\n",
        "\n",
        "\n",
        "  # el siguiente bucle for nos deja con todos los anios en los que se reprodujeron titulos guardados en la lista 'anios'\n",
        "\n",
        "  for anio in (DF['Start Time'].str)[0:4]:\n",
        "  # ciclo entre los primeros 4 caracteres de la columna 'Start Time' de cada fila, esto hace que 'anio'\n",
        "  # sea igual al anio en el que se reprodujo el titulo correspondiente a esa fila .\n",
        "    \n",
        "    if anio not in anios: # si encontramos un anio que no este aun en la lista anios...\n",
        "      anios.append(anio) # ... entonces lo agregamos al final de la lista.\n",
        "\n",
        "  # el siguiente bucle for nos deja con la cantidad de titulos reproducidos en cada anio guardados en la lista 'cantTitulos'\n",
        "\n",
        "  for anio in anios:\n",
        "  # ciclamos entre los valores que toma 'anios' luego de que se evalue el bucle anterior para todo el dataframe,\n",
        "  # en otras palabras, todos los anios en los que se reprodujeron titulos.\n",
        "    \n",
        "    titulosAnio = DF.loc[((DF['Start Time'].str)[0:4]) == anio]\n",
        "    # creamos una serie de pandas con las filas cuyo anio sea igual al valor actual actual de 'anio' \n",
        "    \n",
        "    cantTitulos.append(len(titulosAnio)) # agregamos al final de 'cantTitulos' la longitud de la serie que acabamos de crear   \n",
        "\n",
        "  plt.bar(anios, cantTitulos) # graficamos una lista en funcion de la otra\n",
        "\n",
        "titulosPorAnio(df)"
      ]
    },
    {
      "cell_type": "markdown",
      "metadata": {
        "id": "sgN1E9ZTAx99"
      },
      "source": [
        "## Ejercicio F:\n",
        "### Total de días de todos los títulos reproducidos."
      ]
    },
    {
      "cell_type": "code",
      "execution_count": 13,
      "metadata": {
        "colab": {
          "base_uri": "https://localhost:8080/"
        },
        "id": "77JnAQdrA3yu",
        "outputId": "5e001ce6-8f7d-4283-caac-7544753ae88f"
      },
      "outputs": [
        {
          "name": "stdout",
          "output_type": "stream",
          "text": [
            "El total de dias de reproduccion en el historial es: 99\n"
          ]
        }
      ],
      "source": [
        "def diasVistos(DF):\n",
        "\n",
        "  split = [] # creo una lista donde se va a guardar la duracion de cada fila dividida en horas, minutos, segundos\n",
        "\n",
        "  for val in DF['Duration']: # ciclo entre los valores de la columna 'Duration' de cada fila\n",
        "    split.append(val.split(':')) # agrego al final de 'split' una lista con los caracteres de 'val' divididos por cada ':' que aparece\n",
        "\n",
        "  split = np.asarray(split).astype(int)\n",
        "  # convierto la lista 'split' a un array de numpy para convertir sus valores a tipo int, para luego hacer operaciones matematicas con ellos \n",
        "      \n",
        "  horas = [] # creo una lista donde voy a guardar todos las horas en 'split'\n",
        "  minutos = [] # lo mismo para los minutos\n",
        "  segundos = [] # y para los segundos\n",
        "  for lista in split: # ciclo en cada lista en split\n",
        "    horas.append(lista[0]) # le agrego al final de 'horas' el primer valor de 'lista' (este valor representa horas)\n",
        "    minutos.append(lista[1]) # agrego el segundo a 'minutos' (este valor representa minutos)\n",
        "    segundos.append(lista[2]) # y agrego el tercero a 'segundos' (este valor representa segundos)\n",
        "\n",
        "  totalSegundos = 0 # esta variable va a guardar el total de segundos vistos en todo el historial \n",
        "\n",
        "  for val in segundos: # ciclo por los valores de 'segundos' y los sumo al total\n",
        "    totalSegundos += val\n",
        "\n",
        "  for val in minutos: # lo mismo para los minutos, multiplicandolos primero por 60 para convertirlos a segundos\n",
        "    totalSegundos += val*60\n",
        "\n",
        "  for val in horas: # lo mismo para las horas, pero multiplicandolas por 3600\n",
        "    totalSegundos += val*3600\n",
        "\n",
        "  totalMinutos = totalSegundos//60 # esta variable guarda el total de minutos alguna vez vistos\n",
        "  totalHoras = totalSegundos//3600 # esta guarda el total de horas\n",
        "  totalDias = totalHoras//24 # y finalmente, esta el total de dias\n",
        "\n",
        "  # podria haber hecho una sola variable que es igual a los segundos divididos por 84,400, (60x60x24), pero asi me parecio mas prolijo\n",
        "  \n",
        "  print('El total de dias de reproduccion en el historial es:', totalDias)\n",
        "\n",
        "diasVistos(df)"
      ]
    },
    {
      "cell_type": "markdown",
      "metadata": {
        "id": "LKL7Ws5dA8RM"
      },
      "source": [
        "## Ejercicios Bonus: 1.\n",
        "### Identificar cuál fue la película de Star Wars más veces vista por duración."
      ]
    },
    {
      "cell_type": "code",
      "execution_count": 12,
      "metadata": {
        "colab": {
          "base_uri": "https://localhost:8080/"
        },
        "id": "hvEa4a2RA_JU",
        "outputId": "f598edc1-ecd4-4d0e-c7b4-34cc1ec55fd3"
      },
      "outputs": [
        {
          "name": "stdout",
          "output_type": "stream",
          "text": [
            "La pelicula de Star Wars mas vista por Chona es \"Star Wars: El Imperio contraataca\"\n"
          ]
        }
      ],
      "source": [
        "def swMasVista(DF):\n",
        "\n",
        "  # creo pequenios dataframes con todas las filas cuyo titulo es una pelicula de star wars\n",
        "  ep1 = DF.loc[DF['Title'] == 'Star Wars: La amenaza fantasma']\n",
        "  ep2 = DF.loc[DF['Title'] == 'Star Wars: El ataque de los clones']\n",
        "  ep3 = DF.loc[DF['Title'] == 'Star Wars: La venganza de los Sith']\n",
        "  ep4 = DF.loc[DF['Title'] == 'Star Wars: Una nueva esperanza']\n",
        "  ep5 = DF.loc[DF['Title'] == 'Star Wars: El Imperio contraataca']\n",
        "  ep6 = DF.loc[DF['Title'] == 'Star Wars: El regreso del Jedi']\n",
        "\n",
        "  durSW = []\n",
        "  # lista que va a guardar la duraciond de cada episodio en segundos\n",
        "  \n",
        "  sw = [ep1, ep2, ep3, ep4, ep5, ep6] # lista que contiene los otros dataframes asi puedo ciclar por esta\n",
        "\n",
        "  for ep in sw: # por cada dataframe en 'sw'...\n",
        "    epDur = 0   # variable temporal, va a guardar la duracion de cada ocurrencia de un episodio de Star Wars a la vez\n",
        "    for val in ep['Duration']: # por cada valor en la columna 'Duration' del dataframe actual en el bucle...\n",
        "      valSplit = val.split(':') # creamos una lista con los caracteres de 'val', separados por cada ':'\n",
        "      sumaOcurr = 0 # variable temporal, va a guardar la suma de los segundos de la ocurrencia actual del episodio actual de Star Wars\n",
        "      sumaOcurr += int(valSplit[0])*3600\n",
        "      # le sumamos el primer valor de 'valSplit', la cantidad de horas de reproduccion  de esta ocurrencia, multiplicado por 3600 para pasarlo a segundos\n",
        "      sumaOcurr += int(valSplit[1])*60\n",
        "      # lo mismo con los minutos, lo multiplicamos por 60 en este caso\n",
        "      sumaOcurr += int(valSplit[2])\n",
        "      # aca simplemente sumamos los segundos\n",
        "      epDur += sumaOcurr # le sumumamos a 'epDur' la cantidad de segundos de esta ocurrencia del episodio actual de Star Wars  \n",
        "    durSW.append(epDur)\n",
        "    # una vez que 'epDur' tiene todas las duraciones de el episodio actual en el bucle for, agregamos el valor en segundos al final de la lista 'durSW'\n",
        "    \n",
        "  max = np.argmax(np.asarray(durSW)) # 'max' es el indice del elemento mayor en durSW \n",
        "\n",
        "  res = list(sw[max]['Title'])[0]\n",
        "  # res es el primer elemento en la serie convertida a lista 'list(sw[max]['Title])', donde 'sw[max]' es el dataframe del episodio mas visto de Star Wars,\n",
        "  # y al agregarle ' ['Title'] ' obtenemos la columa 'Title'. Eso devuelve una serie de pandas que convertimos a lista y tomamos el primer valor,\n",
        "  # dejandonos con el string literal del nombre del episodio mas visto, para automatizar el siguiente 'print()'\n",
        "\n",
        "  print('La pelicula de Star Wars mas vista por Chona es \"'+ res + '\"') # mostramos el resultado por consola\n",
        "  \n",
        "swMasVista(df)"
      ]
    }
  ],
  "metadata": {
    "colab": {
      "collapsed_sections": [],
      "provenance": []
    },
    "kernelspec": {
      "display_name": "Python 3.10.2 64-bit",
      "language": "python",
      "name": "python3"
    },
    "language_info": {
      "name": "python",
      "version": "3.10.2"
    },
    "vscode": {
      "interpreter": {
        "hash": "71718b41697cc4d6e172491f5d6e8d5d3fee7ad0131e82133a53efeb4fb18b25"
      }
    }
  },
  "nbformat": 4,
  "nbformat_minor": 0
}
